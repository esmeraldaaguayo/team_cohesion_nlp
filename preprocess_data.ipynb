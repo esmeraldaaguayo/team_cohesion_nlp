{
 "cells": [
  {
   "cell_type": "code",
   "execution_count": 2,
   "metadata": {},
   "outputs": [
    {
     "name": "stderr",
     "output_type": "stream",
     "text": [
      "[nltk_data] Downloading package wordnet to\n",
      "[nltk_data]     /home/esmeralda/nltk_data...\n",
      "[nltk_data]   Package wordnet is already up-to-date!\n"
     ]
    },
    {
     "data": {
      "text/plain": [
       "True"
      ]
     },
     "execution_count": 2,
     "metadata": {},
     "output_type": "execute_result"
    }
   ],
   "source": [
    "import pandas as pd\n",
    "import gensim\n",
    "from gensim.utils import simple_preprocess\n",
    "from gensim.parsing.preprocessing import STOPWORDS\n",
    "from nltk.stem import WordNetLemmatizer\n",
    "from nltk.stem.porter import *\n",
    "import numpy as np\n",
    "import nltk\n",
    "import pickle\n",
    "\n",
    "np.random.seed(2018)\n",
    "nltk.download('wordnet')"
   ]
  },
  {
   "cell_type": "code",
   "execution_count": 11,
   "metadata": {},
   "outputs": [
    {
     "name": "stdout",
     "output_type": "stream",
     "text": [
      "60425\n",
      "                                             comment\n",
      "0  Yeah, but I don't like to post that until *aft...\n",
      "1                                Cool. Thank you :-)\n",
      "2  Thanks -- I thought the slides were pretty goo...\n",
      "3    Edy, 4.2-milestone-1 hasn't been released yet..\n",
      "4  ^^ sorry but your index.php don't work with me...\n",
      "5                                                 ;(\n"
     ]
    }
   ],
   "source": [
    "# load data\n",
    "text_comments = pd.read_csv('data/labeled_commit_comments.csv')\n",
    "text_comments.comment = text_comments.comment.astype(str)\n",
    "documents = text_comments[['comment']][:60425].astype(str)\n",
    "print(len(documents))\n",
    "print(documents[:6])"
   ]
  },
  {
   "cell_type": "code",
   "execution_count": 5,
   "metadata": {},
   "outputs": [],
   "source": [
    "# auxiliary functions\n",
    "def lemmatize_stemming(text):\n",
    "    \"\"\" stem and lemmatize text \"\"\"\n",
    "    stemmer = PorterStemmer()\n",
    "    return stemmer.stem(WordNetLemmatizer().lemmatize(text, pos='v'))\n",
    "\n",
    "def bigrams(words, bi_min=15, tri_min=10):\n",
    "    \"\"\" make a model that detects common phrases (unigram and bigram)\"\"\"\n",
    "    # train toy bigram model\n",
    "    bigram = gensim.models.Phrases(words, min_count=bi_min)\n",
    "    # export trained model to use less RAM and have faster processing\n",
    "    bigram_mod = gensim.models.phrases.Phraser(bigram)\n",
    "    return bigram_mod\n",
    "\n",
    "def remove_stopwords(text):\n",
    "    \"\"\" apply preprocessing: lemmatization, stemming to all text \"\"\"\n",
    "    result = []\n",
    "    for token in simple_preprocess(str(text)):\n",
    "        if token not in STOPWORDS and len(token)>3:\n",
    "            result.append(lemmatize_stemming(token))\n",
    "    return result\n",
    "\n",
    "def get_corpus(df):\n",
    "    \"\"\"\n",
    "    Remove stopwords,\n",
    "    apply lemmatization and stemming,\n",
    "    Get Bigram Model & apply it to each comment,\n",
    "    Corpus = sparse vector of integer word id and its number of distinct occurances per document; needed for LDA,\n",
    "    id2word = outputs the word frequency count for total training set; mapping between words and their integer ids \n",
    "    \"\"\"\n",
    "    words = documents['comment'].map(remove_stopwords)\n",
    "    bigram = bigrams(words)\n",
    "    bigram = [bigram[comment] for comment in words]\n",
    "    id2word = gensim.corpora.Dictionary(bigram)\n",
    "    id2word.filter_extremes(no_below=10, no_above=0.35)\n",
    "    id2word.compactify()\n",
    "    corpus = [id2word.doc2bow(text) for text in bigram]\n",
    "    return corpus, id2word, bigram"
   ]
  },
  {
   "cell_type": "code",
   "execution_count": 12,
   "metadata": {},
   "outputs": [],
   "source": [
    "corpus, id2word, bigram = get_corpus(documents)"
   ]
  },
  {
   "cell_type": "code",
   "execution_count": 13,
   "metadata": {},
   "outputs": [],
   "source": [
    "with open('data/train_corpus.pkl', 'wb') as f:\n",
    "    pickle.dump(corpus, f)\n",
    "with open('data/train_id2word.pkl', 'wb') as f:\n",
    "    pickle.dump(id2word, f)\n",
    "with open('data/train_bigram.pkl', 'wb') as f:\n",
    "    pickle.dump(bigram, f)"
   ]
  }
 ],
 "metadata": {
  "kernelspec": {
   "display_name": "Python 3",
   "language": "python",
   "name": "python3"
  },
  "language_info": {
   "codemirror_mode": {
    "name": "ipython",
    "version": 3
   },
   "file_extension": ".py",
   "mimetype": "text/x-python",
   "name": "python",
   "nbconvert_exporter": "python",
   "pygments_lexer": "ipython3",
   "version": "3.8.5"
  }
 },
 "nbformat": 4,
 "nbformat_minor": 4
}
