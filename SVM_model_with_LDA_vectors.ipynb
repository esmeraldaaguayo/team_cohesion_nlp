{
 "cells": [
  {
   "cell_type": "code",
   "execution_count": 8,
   "metadata": {},
   "outputs": [],
   "source": [
    "import pickle\n",
    "import numpy as np\n",
    "from sklearn.model_selection import KFold\n",
    "from sklearn.preprocessing import StandardScaler\n",
    "from sklearn import linear_model\n",
    "from sklearn.metrics import f1_score"
   ]
  },
  {
   "cell_type": "code",
   "execution_count": 9,
   "metadata": {},
   "outputs": [],
   "source": [
    "# load data\n",
    "with open('output/y.pkl', 'rb') as f:\n",
    "    y = pickle.load(f)\n",
    "with open('output/x.pkl', 'rb') as f:\n",
    "    x = pickle.load(f)    "
   ]
  },
  {
   "cell_type": "code",
   "execution_count": 12,
   "metadata": {},
   "outputs": [
    {
     "name": "stdout",
     "output_type": "stream",
     "text": [
      "SVM Hinge Val f1: 0.907 +- 0.001\n"
     ]
    }
   ],
   "source": [
    "# Build model and use 5 fold cross validation\n",
    "kf = KFold(5, shuffle=True, random_state=42)\n",
    "cv_svcsgd_f1  = []\n",
    "\n",
    "for train_idx, val_idx in kf.split(x, y):\n",
    "    # Assign indices\n",
    "    x_train, y_train = x[train_idx], y[train_idx]\n",
    "    x_val, y_val = x[val_idx], y[val_idx]\n",
    "    \n",
    "    # Scale Data\n",
    "    scaler = StandardScaler()\n",
    "    x_train_scale = scaler.fit_transform(x_train)\n",
    "    x_val_scale = scaler.transform(x_val)\n",
    "    \n",
    "    # SGD Hinge\n",
    "    sgd_hinge = linear_model.SGDClassifier(\n",
    "        max_iter=1000,\n",
    "        alpha=20,\n",
    "        loss='hinge',\n",
    "        class_weight='balanced'\n",
    "    ).fit(x_train_scale, y_train)\n",
    "    \n",
    "    y_pred = sgd_hinge.predict(x_val_scale)\n",
    "    cv_svcsgd_f1.append(f1_score(y_val, y_pred, average='binary'))\n",
    "    \n",
    "print(f'SVM Hinge Val f1: {np.mean(cv_svcsgd_f1):.3f} +- {np.std(cv_svcsgd_f1):.3f}')"
   ]
  }
 ],
 "metadata": {
  "kernelspec": {
   "display_name": "Python 3",
   "language": "python",
   "name": "python3"
  },
  "language_info": {
   "codemirror_mode": {
    "name": "ipython",
    "version": 3
   },
   "file_extension": ".py",
   "mimetype": "text/x-python",
   "name": "python",
   "nbconvert_exporter": "python",
   "pygments_lexer": "ipython3",
   "version": "3.8.5"
  }
 },
 "nbformat": 4,
 "nbformat_minor": 4
}
