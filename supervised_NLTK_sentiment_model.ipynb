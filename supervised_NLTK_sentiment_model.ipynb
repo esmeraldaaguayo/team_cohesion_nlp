{
 "cells": [
  {
   "cell_type": "code",
   "execution_count": 9,
   "metadata": {},
   "outputs": [
    {
     "name": "stderr",
     "output_type": "stream",
     "text": [
      "[nltk_data] Downloading package vader_lexicon to\n",
      "[nltk_data]     /home/esmeralda/nltk_data...\n",
      "[nltk_data]   Package vader_lexicon is already up-to-date!\n"
     ]
    },
    {
     "data": {
      "text/plain": [
       "True"
      ]
     },
     "execution_count": 9,
     "metadata": {},
     "output_type": "execute_result"
    }
   ],
   "source": [
    "import nltk\n",
    "from nltk.sentiment.vader import SentimentIntensityAnalyzer\n",
    "import pandas as pd\n",
    "import matplotlib.pyplot as plt\n",
    "import seaborn as sns\n",
    "import pickle\n",
    "\n",
    "nltk.download('vader_lexicon')"
   ]
  },
  {
   "cell_type": "code",
   "execution_count": 4,
   "metadata": {},
   "outputs": [],
   "source": [
    "# load data\n",
    "text_comments = pd.read_csv('data/commit_comments.csv')\n",
    "text_comments.comment = text_comments.comment.astype(str) "
   ]
  },
  {
   "cell_type": "code",
   "execution_count": 6,
   "metadata": {},
   "outputs": [
    {
     "name": "stdout",
     "output_type": "stream",
     "text": [
      "                                             comment  \\\n",
      "0  Yeah, but I don't like to post that until *aft...   \n",
      "1                                Cool. Thank you :-)   \n",
      "2  Thanks -- I thought the slides were pretty goo...   \n",
      "3    Edy, 4.2-milestone-1 hasn't been released yet..   \n",
      "4  ^^ sorry but your index.php don't work with me...   \n",
      "\n",
      "                                           sc_scores  compound label  \n",
      "0  {'neg': 0.146, 'neu': 0.766, 'pos': 0.088, 'co...   -0.2651   neg  \n",
      "1  {'neg': 0.0, 'neu': 0.123, 'pos': 0.877, 'comp...    0.7269   pos  \n",
      "2  {'neg': 0.0, 'neu': 0.4, 'pos': 0.6, 'compound...    0.8402   pos  \n",
      "3  {'neg': 0.0, 'neu': 1.0, 'pos': 0.0, 'compound...    0.0000   pos  \n",
      "4  {'neg': 0.099, 'neu': 0.687, 'pos': 0.215, 'co...    0.3291   pos  \n"
     ]
    }
   ],
   "source": [
    "# add sentiment scoring and labels to data\n",
    "analyzer = SentimentIntensityAnalyzer()\n",
    "\n",
    "text_comments['sc_scores'] =text_comments['comment'].apply(lambda comment:analyzer.polarity_scores(comment))\n",
    "text_comments['compound'] = text_comments['sc_scores'].apply(lambda score_dict:score_dict['compound'])\n",
    "text_comments['label'] = text_comments['compound'].apply(lambda c:'pos' if c>=0 else 'neg')\n",
    "\n",
    "\n",
    "print(text_comments.head())"
   ]
  },
  {
   "cell_type": "code",
   "execution_count": 8,
   "metadata": {},
   "outputs": [
    {
     "data": {
      "text/plain": [
       "Text(0.5, 0, '')"
      ]
     },
     "execution_count": 8,
     "metadata": {},
     "output_type": "execute_result"
    },
    {
     "data": {
      "image/png": "[encoded data removed]",
      "text/plain": [
       "<Figure size 720x576 with 1 Axes>"
      ]
     },
     "metadata": {
      "needs_background": "light"
     },
     "output_type": "display_data"
    }
   ],
   "source": [
    "# visualization\n",
    "plt.figure(figsize=(10,8))\n",
    "plt.rcParams.update({'font.size': 20})\n",
    "sns.countplot('label', data = text_comments)\n",
    "plt.ylabel('')\n",
    "plt.xlabel('')"
   ]
  },
  {
   "cell_type": "code",
   "execution_count": 10,
   "metadata": {},
   "outputs": [],
   "source": [
    "# save labeled dataset\n",
    "text_comments.to_csv(\"data/labeled_commit_comments.csv\", index=False)"
   ]
  }
 ],
 "metadata": {
  "kernelspec": {
   "display_name": "Python 3",
   "language": "python",
   "name": "python3"
  },
  "language_info": {
   "codemirror_mode": {
    "name": "ipython",
    "version": 3
   },
   "file_extension": ".py",
   "mimetype": "text/x-python",
   "name": "python",
   "nbconvert_exporter": "python",
   "pygments_lexer": "ipython3",
   "version": "3.8.5"
  }
 },
 "nbformat": 4,
 "nbformat_minor": 4
}
