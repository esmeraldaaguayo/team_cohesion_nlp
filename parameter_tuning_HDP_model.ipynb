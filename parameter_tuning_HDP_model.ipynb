{
 "cells": [
  {
   "cell_type": "code",
   "execution_count": 5,
   "metadata": {},
   "outputs": [],
   "source": [
    "import pickle\n",
    "import numpy as np\n",
    "from gensim.models import HdpModel"
   ]
  },
  {
   "cell_type": "code",
   "execution_count": 6,
   "metadata": {},
   "outputs": [],
   "source": [
    "# load data\n",
    "with open('data/train_corpus.pkl', 'rb') as f:\n",
    "    train_corpus = pickle.load(f)\n",
    "with open('data/train_id2word.pkl', 'rb') as f:\n",
    "    train_id2word = pickle.load(f)"
   ]
  },
  {
   "cell_type": "code",
   "execution_count": 7,
   "metadata": {},
   "outputs": [],
   "source": [
    "# execute HDP model 5 times to ensure consistent topic number selection\n",
    "topics_number = []\n",
    "\n",
    "for i in range(5):\n",
    "    # build model\n",
    "    hdp = HdpModel(train_corpus, train_id2word, chunksize=10000)\n",
    "    topics_number.append(len(hdp.print_topics()))"
   ]
  },
  {
   "cell_type": "code",
   "execution_count": 8,
   "metadata": {},
   "outputs": [
    {
     "name": "stdout",
     "output_type": "stream",
     "text": [
      "[20, 20, 20, 20, 20]\n",
      "20.0\n"
     ]
    }
   ],
   "source": [
    "print(topics_number)\n",
    "print(np.sum(topics_number)/5)"
   ]
  },
  {
   "cell_type": "code",
   "execution_count": null,
   "metadata": {},
   "outputs": [],
   "source": []
  }
 ],
 "metadata": {
  "kernelspec": {
   "display_name": "Python 3",
   "language": "python",
   "name": "python3"
  },
  "language_info": {
   "codemirror_mode": {
    "name": "ipython",
    "version": 3
   },
   "file_extension": ".py",
   "mimetype": "text/x-python",
   "name": "python",
   "nbconvert_exporter": "python",
   "pygments_lexer": "ipython3",
   "version": "3.8.5"
  }
 },
 "nbformat": 4,
 "nbformat_minor": 4
}
