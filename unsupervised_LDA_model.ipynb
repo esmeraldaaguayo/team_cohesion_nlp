{
 "cells": [
  {
   "cell_type": "code",
   "execution_count": 13,
   "metadata": {},
   "outputs": [],
   "source": [
    "import pickle\n",
    "import logging\n",
    "import gensim\n",
    "import warnings\n",
    "import numpy as np\n",
    "import pandas as pd"
   ]
  },
  {
   "cell_type": "code",
   "execution_count": 17,
   "metadata": {},
   "outputs": [
    {
     "name": "stdout",
     "output_type": "stream",
     "text": [
      "60425\n",
      "                                             comment label\n",
      "0  Yeah, but I don't like to post that until *aft...   neg\n",
      "1                                Cool. Thank you :-)   pos\n",
      "2  Thanks -- I thought the slides were pretty goo...   pos\n",
      "3    Edy, 4.2-milestone-1 hasn't been released yet..   pos\n",
      "4  ^^ sorry but your index.php don't work with me...   pos\n",
      "5                                                 ;(   pos\n"
     ]
    }
   ],
   "source": [
    "# load data\n",
    "with open('output/train_corpus.pkl', 'rb') as f:\n",
    "    train_corpus = pickle.load(f)\n",
    "with open('output/train_id2word.pkl', 'rb') as f:\n",
    "    train_id2word = pickle.load(f)\n",
    "with open('output/train_bigram.pkl', 'rb') as f:\n",
    "    train_bigram = pickle.load(f)\n",
    "    \n",
    "text_comments = pd.read_csv('data/labeled_commit_comments.csv')\n",
    "text_comments.comment = text_comments.comment.astype(str)\n",
    "documents_train = text_comments[['comment']][:60425].astype(str)\n",
    "documents_train['label'] = text_comments['label'][:60425]\n",
    "print(len(documents_train))\n",
    "print(documents_train[:6])"
   ]
  },
  {
   "cell_type": "code",
   "execution_count": 3,
   "metadata": {},
   "outputs": [],
   "source": [
    "# provide greater visibility during training\n",
    "logging.basicConfig(filename='output/lda_model.log', format='%(asctime)s : %(levelname)s : %(message)s', level=logging.INFO)"
   ]
  },
  {
   "cell_type": "code",
   "execution_count": 5,
   "metadata": {},
   "outputs": [],
   "source": [
    "with warnings.catch_warnings():\n",
    "    warnings.simplefilter('ignore')\n",
    "    \n",
    "    lda_train = gensim.models.LdaMulticore(corpus=train_corpus, num_topics=20, id2word=train_id2word, workers=2, passes=2)\n",
    "    lda_train.save('output/lda_train.model')\n",
    "    \n",
    "    lda_train.print_topics(20, num_words=15)"
   ]
  },
  {
   "cell_type": "code",
   "execution_count": 6,
   "metadata": {},
   "outputs": [],
   "source": [
    "# make feature vectors\n",
    "train_vecs = []\n",
    "for i in range(len(documents_train)):\n",
    "    top_topics = lda_train.get_document_topics(train_corpus[i], minimum_probability=0.0)\n",
    "    topic_vec = [top_topics[i][1] for i in range(20)]\n",
    "    train_vecs.append(topic_vec)"
   ]
  },
  {
   "cell_type": "code",
   "execution_count": 11,
   "metadata": {},
   "outputs": [
    {
     "name": "stdout",
     "output_type": "stream",
     "text": [
      "60425\n",
      "1.0\n"
     ]
    },
    {
     "data": {
      "text/plain": [
       "[0.008335098,\n",
       " 0.21885021,\n",
       " 0.008335098,\n",
       " 0.008335098,\n",
       " 0.008335098,\n",
       " 0.008335098,\n",
       " 0.008335098,\n",
       " 0.18260145,\n",
       " 0.008335098,\n",
       " 0.008335098,\n",
       " 0.008335099,\n",
       " 0.008335098,\n",
       " 0.008335098,\n",
       " 0.008335098,\n",
       " 0.45685163,\n",
       " 0.008335098,\n",
       " 0.008335098,\n",
       " 0.008335098,\n",
       " 0.008335098,\n",
       " 0.008335098]"
      ]
     },
     "execution_count": 11,
     "metadata": {},
     "output_type": "execute_result"
    }
   ],
   "source": [
    "print(len(train_vecs))\n",
    "print(np.sum(train_vecs[2]))\n",
    "train_vecs[2]"
   ]
  },
  {
   "cell_type": "code",
   "execution_count": 18,
   "metadata": {},
   "outputs": [
    {
     "name": "stdout",
     "output_type": "stream",
     "text": [
      "(60425, 20)\n",
      "(60425,)\n"
     ]
    }
   ],
   "source": [
    "x = np.array(train_vecs)\n",
    "y = np.array(documents_train.label)\n",
    "print(x.shape)\n",
    "print(y.shape)"
   ]
  },
  {
   "cell_type": "code",
   "execution_count": 19,
   "metadata": {},
   "outputs": [],
   "source": [
    "# save datasets\n",
    "with open('output/y.pkl', 'wb') as f:\n",
    "    pickle.dump(y, f)\n",
    "with open('output/x.pkl', 'wb') as f:\n",
    "    pickle.dump(x, f)"
   ]
  }
 ],
 "metadata": {
  "kernelspec": {
   "display_name": "Python 3",
   "language": "python",
   "name": "python3"
  },
  "language_info": {
   "codemirror_mode": {
    "name": "ipython",
    "version": 3
   },
   "file_extension": ".py",
   "mimetype": "text/x-python",
   "name": "python",
   "nbconvert_exporter": "python",
   "pygments_lexer": "ipython3",
   "version": "3.8.5"
  }
 },
 "nbformat": 4,
 "nbformat_minor": 4
}
