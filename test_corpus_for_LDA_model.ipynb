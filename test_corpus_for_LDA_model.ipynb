{
 "cells": [
  {
   "cell_type": "code",
   "execution_count": 3,
   "metadata": {},
   "outputs": [
    {
     "name": "stderr",
     "output_type": "stream",
     "text": [
      "[nltk_data] Downloading package wordnet to\n",
      "[nltk_data]     /home/esmeralda/nltk_data...\n",
      "[nltk_data]   Package wordnet is already up-to-date!\n"
     ]
    },
    {
     "data": {
      "text/plain": [
       "True"
      ]
     },
     "execution_count": 3,
     "metadata": {},
     "output_type": "execute_result"
    }
   ],
   "source": [
    "import pandas as pd\n",
    "import gensim\n",
    "from gensim.utils import simple_preprocess\n",
    "from gensim.parsing.preprocessing import STOPWORDS\n",
    "from nltk.stem import WordNetLemmatizer\n",
    "from nltk.stem.porter import *\n",
    "import numpy as np\n",
    "import nltk\n",
    "import pickle\n",
    "from sklearn.preprocessing import StandardScaler\n",
    "from sklearn import linear_model\n",
    "from sklearn.metrics import f1_score\n",
    "\n",
    "np.random.seed(2018)\n",
    "nltk.download('wordnet')"
   ]
  },
  {
   "cell_type": "code",
   "execution_count": 4,
   "metadata": {},
   "outputs": [
    {
     "name": "stdout",
     "output_type": "stream",
     "text": [
      "120850\n",
      "                                                 comment\n",
      "60425  No, that is not the best way possible.\\\\n\\\\nTh...\n",
      "60426  \\\\n>Undo/redo conceptually are concepts that c...\n",
      "60427  I don't understand why Screenplay doesn't deci...\n",
      "60428  On Tue, Jul 10, 2012 at 2:05 AM, Osku Salerma\\...\n",
      "60429  I have to digest these options a bit before I ...\n",
      "60430  > I have to digest these options a bit before ...\n"
     ]
    }
   ],
   "source": [
    "# load data and obtained unseen splice\n",
    "text_comments = pd.read_csv('data/labeled_commit_comments.csv')\n",
    "text_comments.comment = text_comments.comment.astype(str)\n",
    "documents_test = text_comments[['comment']][60425:181275].astype(str)\n",
    "print(len(documents_test))\n",
    "print(documents_test[:6])"
   ]
  },
  {
   "cell_type": "code",
   "execution_count": 6,
   "metadata": {},
   "outputs": [],
   "source": [
    "# load trained id2word\n",
    "with open('output/train_id2word.pkl', 'rb') as f:\n",
    "    train_id2word = pickle.load(f)"
   ]
  },
  {
   "cell_type": "code",
   "execution_count": 7,
   "metadata": {},
   "outputs": [],
   "source": [
    "# process data\n",
    "def lemmatize_stemming(text):\n",
    "    \"\"\" stem and lemmatize text \"\"\"\n",
    "    stemmer = PorterStemmer()\n",
    "    return stemmer.stem(WordNetLemmatizer().lemmatize(text, pos='v'))\n",
    "\n",
    "def bigrams(words, bi_min=15, tri_min=10):\n",
    "    \"\"\" make a model that detects common phrases (unigram and bigram)\"\"\"\n",
    "    # train toy bigram model\n",
    "    bigram = gensim.models.Phrases(words, min_count=bi_min)\n",
    "    # export trained model to use less RAM and have faster processing\n",
    "    bigram_mod = gensim.models.phrases.Phraser(bigram)\n",
    "    return bigram_mod\n",
    "\n",
    "def remove_stopwords(text):\n",
    "    \"\"\" apply preprocessing: lemmatization, stemming to all text \"\"\"\n",
    "    result = []\n",
    "    for token in simple_preprocess(str(text)):\n",
    "        if token not in STOPWORDS and len(token)>3:\n",
    "            result.append(lemmatize_stemming(token))\n",
    "    return result\n",
    "\n",
    "\n",
    "def get_bigram(df):\n",
    "    \"\"\"\n",
    "    need to generate bigram of unseen data\n",
    "    \"\"\"\n",
    "    words = documents['comment'].map(remove_stopwords)\n",
    "    bigram = bigrams(words)\n",
    "    bigram = [bigram[comment] for comment in words]\n",
    "    return bigram\n",
    "\n",
    "bigram_test = get_bigram(documents_test)\n",
    "\n",
    "test_corpus = [train_id2word.doc2bow(text) for text in bigram_test]"
   ]
  },
  {
   "cell_type": "code",
   "execution_count": 8,
   "metadata": {},
   "outputs": [],
   "source": [
    "# load trained LDA model\n",
    "lda_train = gensim.models.ldamulticore.LdaMulticore.load('output/lda_train.model')"
   ]
  },
  {
   "cell_type": "code",
   "execution_count": 9,
   "metadata": {},
   "outputs": [],
   "source": [
    "# make feature vectors of test corpus\n",
    "test_vecs = []\n",
    "for i in range(len(documents_test)):\n",
    "    top_topics = lda_train.get_document_topics(test_corpus[i], minimum_probability=0.0)\n",
    "    topic_vec = [top_topics[i][1] for i in range(20)]\n",
    "    test_vecs.append(topic_vec)"
   ]
  },
  {
   "cell_type": "code",
   "execution_count": 11,
   "metadata": {},
   "outputs": [],
   "source": [
    "len(test_vecs)\n",
    "x = np.array(test_vecs)\n",
    "\n",
    "documents_test['label'] = text_comments['label'][60425:181275]\n",
    "y = np.array([1 if value=='pos' else 0 for idx, value in documents_test.label.iteritems()])"
   ]
  },
  {
   "cell_type": "code",
   "execution_count": 13,
   "metadata": {},
   "outputs": [
    {
     "name": "stdout",
     "output_type": "stream",
     "text": [
      "0.913722511606585\n"
     ]
    }
   ],
   "source": [
    "# Run SVM on test feature vectors\n",
    "scaler = StandardScaler()\n",
    "x = scaler.fit_transform(x)\n",
    "\n",
    "# SGD Hinge\n",
    "sgd_hinge = linear_model.SGDClassifier(\n",
    "    max_iter=1000,\n",
    "    alpha=20,\n",
    "    loss='hinge',\n",
    "    class_weight='balanced',shuffle=True\n",
    ").fit(x, y)\n",
    "    \n",
    "y_pred = sgd_hinge.predict(x)\n",
    "\n",
    "print(f1_score(y, y_pred, average='binary'))"
   ]
  }
 ],
 "metadata": {
  "kernelspec": {
   "display_name": "Python 3",
   "language": "python",
   "name": "python3"
  },
  "language_info": {
   "codemirror_mode": {
    "name": "ipython",
    "version": 3
   },
   "file_extension": ".py",
   "mimetype": "text/x-python",
   "name": "python",
   "nbconvert_exporter": "python",
   "pygments_lexer": "ipython3",
   "version": "3.8.5"
  }
 },
 "nbformat": 4,
 "nbformat_minor": 4
}
